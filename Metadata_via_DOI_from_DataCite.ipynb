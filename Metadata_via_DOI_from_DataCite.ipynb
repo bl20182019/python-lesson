{
 "cells": [
  {
   "cell_type": "code",
   "execution_count": 9,
   "id": "5937d516",
   "metadata": {},
   "outputs": [],
   "source": [
    "import urllib.request\n",
    "import json\n",
    "\n",
    "base_url = \"https://api.datacite.org/application/vnd.datacite.datacite+json/\"\n",
    "doi = \"10.6084/m9.figshare.155613\"\n",
    "full_url = base_url + doi"
   ]
  },
  {
   "cell_type": "code",
   "execution_count": 10,
   "id": "e5e4045b",
   "metadata": {},
   "outputs": [],
   "source": [
    "doi_json_dataset = urllib.request.urlopen(full_url).read()"
   ]
  },
  {
   "cell_type": "code",
   "execution_count": 18,
   "id": "ece9dbda",
   "metadata": {},
   "outputs": [],
   "source": [
    "doi_dataset = json.loads(doi_json_dataset)"
   ]
  },
  {
   "cell_type": "code",
   "execution_count": 25,
   "id": "30c2ed99",
   "metadata": {},
   "outputs": [
    {
     "data": {
      "text/plain": [
       "{'id': 'https://doi.org/10.6084/m9.figshare.155613',\n",
       " 'doi': '10.6084/M9.FIGSHARE.155613',\n",
       " 'url': 'https://figshare.com/articles/dataset/git_repository_for_paper_on_git_and_reproducible_science/155613',\n",
       " 'types': {'ris': 'DATA',\n",
       "  'bibtex': 'misc',\n",
       "  'citeproc': 'dataset',\n",
       "  'schemaOrg': 'Dataset',\n",
       "  'resourceType': 'Dataset',\n",
       "  'resourceTypeGeneral': 'Dataset'},\n",
       " 'creators': [{'name': 'Ram, Karthik',\n",
       "   'nameType': 'Personal',\n",
       "   'givenName': 'Karthik',\n",
       "   'familyName': 'Ram',\n",
       "   'affiliation': [],\n",
       "   'nameIdentifiers': [{'schemeUri': 'https://orcid.org',\n",
       "     'nameIdentifier': 'https://orcid.org/0000-0002-0233-1757',\n",
       "     'nameIdentifierScheme': 'ORCID'}]}],\n",
       " 'titles': [{'title': 'git repository for paper on git and reproducible science'}],\n",
       " 'publisher': 'figshare',\n",
       " 'container': {},\n",
       " 'subjects': [{'subject': '60102 Bioinformatics', 'subjectScheme': 'FOR'},\n",
       "  {'subject': 'FOS: Computer and information sciences',\n",
       "   'schemeUri': 'http://www.oecd.org/science/inno/38235147.pdf',\n",
       "   'subjectScheme': 'Fields of Science and Technology (FOS)'},\n",
       "  {'subject': 'FOS: Computer and information sciences',\n",
       "   'subjectScheme': 'Fields of Science and Technology (FOS)'}],\n",
       " 'contributors': [],\n",
       " 'dates': [{'date': '2013-02-02', 'dateType': 'Created'},\n",
       "  {'date': '2013-02-11', 'dateType': 'Updated'},\n",
       "  {'date': '2013', 'dateType': 'Issued'}],\n",
       " 'publicationYear': 2013,\n",
       " 'identifiers': [],\n",
       " 'sizes': ['18290097 Bytes'],\n",
       " 'formats': [],\n",
       " 'rightsList': [{'rights': 'Creative Commons Attribution 4.0 International',\n",
       "   'rightsUri': 'https://creativecommons.org/licenses/by/4.0/legalcode',\n",
       "   'schemeUri': 'https://spdx.org/licenses/',\n",
       "   'rightsIdentifier': 'cc-by-4.0',\n",
       "   'rightsIdentifierScheme': 'SPDX'}],\n",
       " 'descriptions': [{'description': \"This is the archived git repostiory for this paper: git can facilitate greater reproducibility and increased transparency in science Paper is currently in press in Source Code in Medicine and Biology and this zipped repo gives you access to the full history of the paper's development.\",\n",
       "   'descriptionType': 'Abstract'}],\n",
       " 'geoLocations': [],\n",
       " 'fundingReferences': [],\n",
       " 'relatedIdentifiers': [],\n",
       " 'schemaVersion': 'http://datacite.org/schema/kernel-4',\n",
       " 'providerId': 'figshare',\n",
       " 'clientId': 'figshare.ars',\n",
       " 'agency': 'datacite',\n",
       " 'state': 'findable'}"
      ]
     },
     "execution_count": 25,
     "metadata": {},
     "output_type": "execute_result"
    }
   ],
   "source": [
    "doi_dataset"
   ]
  },
  {
   "cell_type": "code",
   "execution_count": 19,
   "id": "e4673e51",
   "metadata": {},
   "outputs": [],
   "source": [
    "# Liste mit DOIs\n",
    "dois = [\"10.6084/m9.figshare.155613\",\n",
    "        \"10.6084/m9.figshare.153821.v1\",\n",
    "        \"10.7490/f1000research.1115338.1\",\n",
    "        \"10.5281/zenodo.2599866\"]"
   ]
  },
  {
   "cell_type": "code",
   "execution_count": 26,
   "id": "81480b6e",
   "metadata": {},
   "outputs": [
    {
     "data": {
      "text/plain": [
       "dict"
      ]
     },
     "execution_count": 26,
     "metadata": {},
     "output_type": "execute_result"
    }
   ],
   "source": [
    "type(doi_dataset)"
   ]
  },
  {
   "cell_type": "code",
   "execution_count": 20,
   "id": "05825d5b",
   "metadata": {},
   "outputs": [
    {
     "data": {
      "text/plain": [
       "dict"
      ]
     },
     "execution_count": 20,
     "metadata": {},
     "output_type": "execute_result"
    }
   ],
   "source": [
    "dict"
   ]
  },
  {
   "cell_type": "code",
   "execution_count": 27,
   "id": "64053f39",
   "metadata": {},
   "outputs": [
    {
     "name": "stdout",
     "output_type": "stream",
     "text": [
      "git repository for paper on git and reproducible science\n"
     ]
    }
   ],
   "source": [
    "print(doi_dataset[\"titles\"][0][\"title\"])"
   ]
  },
  {
   "cell_type": "code",
   "execution_count": 21,
   "id": "86285d8c",
   "metadata": {},
   "outputs": [
    {
     "data": {
      "text/plain": [
       "dict_keys(['id', 'doi', 'url', 'types', 'creators', 'titles', 'publisher', 'container', 'subjects', 'contributors', 'dates', 'publicationYear', 'identifiers', 'sizes', 'formats', 'rightsList', 'descriptions', 'geoLocations', 'fundingReferences', 'relatedIdentifiers', 'schemaVersion', 'providerId', 'clientId', 'agency', 'state'])"
      ]
     },
     "execution_count": 21,
     "metadata": {},
     "output_type": "execute_result"
    }
   ],
   "source": [
    "doi_dataset.keys()"
   ]
  },
  {
   "cell_type": "code",
   "execution_count": 24,
   "id": "1f47da13",
   "metadata": {},
   "outputs": [
    {
     "name": "stdout",
     "output_type": "stream",
     "text": [
      "[{'title': 'git repository for paper on git and reproducible science'}]\n"
     ]
    }
   ],
   "source": [
    "print(doi_dataset[\"titles\"])"
   ]
  },
  {
   "cell_type": "code",
   "execution_count": 17,
   "id": "c676f816",
   "metadata": {},
   "outputs": [
    {
     "ename": "AttributeError",
     "evalue": "'str' object has no attribute 'dataset'",
     "output_type": "error",
     "traceback": [
      "\u001b[1;31m---------------------------------------------------------------------------\u001b[0m",
      "\u001b[1;31mAttributeError\u001b[0m                            Traceback (most recent call last)",
      "\u001b[1;32m<ipython-input-17-28f7c3f16d7e>\u001b[0m in \u001b[0;36m<module>\u001b[1;34m\u001b[0m\n\u001b[1;32m----> 1\u001b[1;33m \u001b[0mtitle_dict\u001b[0m \u001b[1;33m=\u001b[0m \u001b[0mdoi\u001b[0m\u001b[1;33m.\u001b[0m\u001b[0mdataset\u001b[0m\u001b[1;33m[\u001b[0m\u001b[1;34m\"titles\"\u001b[0m\u001b[1;33m]\u001b[0m\u001b[1;33m[\u001b[0m\u001b[1;36m0\u001b[0m\u001b[1;33m]\u001b[0m\u001b[1;33m\u001b[0m\u001b[1;33m\u001b[0m\u001b[0m\n\u001b[0m",
      "\u001b[1;31mAttributeError\u001b[0m: 'str' object has no attribute 'dataset'"
     ]
    }
   ],
   "source": [
    "title_dict = doi.dataset[\"titles\"][0]"
   ]
  },
  {
   "cell_type": "code",
   "execution_count": 29,
   "id": "cc35b43b",
   "metadata": {},
   "outputs": [
    {
     "name": "stdout",
     "output_type": "stream",
     "text": [
      "Dataset\n"
     ]
    }
   ],
   "source": [
    "# auf den Typ \"resourceTypeGeneral\" zugreifen\n",
    "print(doi_dataset[\"types\"][\"resourceTypeGeneral\"])"
   ]
  },
  {
   "cell_type": "code",
   "execution_count": 30,
   "id": "bd31ec96",
   "metadata": {},
   "outputs": [
    {
     "name": "stdout",
     "output_type": "stream",
     "text": [
      "10.6084/m9.figshare.155613\n",
      "10.6084/m9.figshare.153821.v1\n",
      "10.7490/f1000research.1115338.1\n",
      "10.5281/zenodo.2599866\n"
     ]
    }
   ],
   "source": [
    "dois = [\"10.6084/m9.figshare.155613\",\n",
    "        \"10.6084/m9.figshare.153821.v1\",\n",
    "        \"10.7490/f1000research.1115338.1\",\n",
    "        \"10.5281/zenodo.2599866\"]\n",
    "for doi in dois:\n",
    "    print (doi)"
   ]
  },
  {
   "cell_type": "code",
   "execution_count": 50,
   "id": "9f348ef6",
   "metadata": {},
   "outputs": [
    {
     "name": "stdout",
     "output_type": "stream",
     "text": [
      "10.6084/m9.figshare.155613\n",
      "https://api.datacite.org/application/vnd.datacite.datacite+json/10.6084/m9.figshare.155613\n",
      "Datasetfigshare\n",
      "--------------\n",
      "10.6084/m9.figshare.153821.v1\n",
      "https://api.datacite.org/application/vnd.datacite.datacite+json/10.6084/m9.figshare.153821.v1\n",
      "Datasetfigshare\n",
      "--------------\n",
      "10.7490/f1000research.1115338.1\n",
      "https://api.datacite.org/application/vnd.datacite.datacite+json/10.7490/f1000research.1115338.1\n",
      "OtherF1000 Research Limited\n",
      "--------------\n",
      "10.5281/zenodo.2599866\n",
      "https://api.datacite.org/application/vnd.datacite.datacite+json/10.5281/zenodo.2599866\n",
      "OtherZenodo\n",
      "--------------\n"
     ]
    }
   ],
   "source": [
    "dois = [\"10.6084/m9.figshare.155613\",\n",
    "\"10.6084/m9.figshare.153821.v1\",\n",
    "\"10.7490/f1000research.1115338.1\",\n",
    "\"10.5281/zenodo.2599866\"] # definiert die dois die angezapt werden\n",
    "\n",
    "base_url = \"https://api.datacite.org/application/vnd.datacite.datacite+json/\" # gibt diu basisadresse als string geschrieben wird\n",
    "\n",
    "\n",
    "for doi in dois:\n",
    "    print(doi) # liest eine doi nach der anderen aus den variablen aus\n",
    "    full_url = base_url + doi # addiert die url, so dass der komplette Pfad steht\n",
    "    print(full_url)\n",
    "    doi_json_dataset = urllib.request.urlopen(full_url).read() # liest den entsprechenden Pfad aus\n",
    "    doi_dataset = json.loads(doi_json_dataset) # legt den Datensatz an\n",
    "    print(doi_dataset[\"types\"][\"resourceTypeGeneral\"] + doi_dataset[\"publisher\"])\n",
    "    print(\"--------------\")"
   ]
  },
  {
   "cell_type": "code",
   "execution_count": null,
   "id": "7d35fb0e",
   "metadata": {},
   "outputs": [],
   "source": []
  }
 ],
 "metadata": {
  "kernelspec": {
   "display_name": "Python 3",
   "language": "python",
   "name": "python3"
  },
  "language_info": {
   "codemirror_mode": {
    "name": "ipython",
    "version": 3
   },
   "file_extension": ".py",
   "mimetype": "text/x-python",
   "name": "python",
   "nbconvert_exporter": "python",
   "pygments_lexer": "ipython3",
   "version": "3.8.8"
  }
 },
 "nbformat": 4,
 "nbformat_minor": 5
}
